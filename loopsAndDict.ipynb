{
  "nbformat": 4,
  "nbformat_minor": 0,
  "metadata": {
    "colab": {
      "provenance": [],
      "authorship_tag": "ABX9TyO/ltLvgISCTW5w02b1VZwt",
      "include_colab_link": true
    },
    "kernelspec": {
      "name": "python3",
      "display_name": "Python 3"
    },
    "language_info": {
      "name": "python"
    }
  },
  "cells": [
    {
      "cell_type": "markdown",
      "metadata": {
        "id": "view-in-github",
        "colab_type": "text"
      },
      "source": [
        "<a href=\"https://colab.research.google.com/github/AlishaKK/Python/blob/main/loopsAndDict.ipynb\" target=\"_parent\"><img src=\"https://colab.research.google.com/assets/colab-badge.svg\" alt=\"Open In Colab\"/></a>"
      ]
    },
    {
      "cell_type": "markdown",
      "source": [
        "\n",
        "**Dictionary**\n",
        "\n",
        "A **list** is an ordered collection of elements accessed by their position (index), while a **dictionary** is an unordered collection of key-value pairs accessed by their unique keys. Lists allow duplicate elements, but dictionary keys must be unique."
      ],
      "metadata": {
        "id": "s0WlcOTSFXTc"
      }
    },
    {
      "cell_type": "code",
      "execution_count": 1,
      "metadata": {
        "id": "yA_7RZ7RD_LH"
      },
      "outputs": [],
      "source": [
        "\n",
        "student1 = {\n",
        "    \"name\": \"asma\",\n",
        "    \"age\": 22,\n",
        "    \"subject\": \"AI201\"\n",
        "}"
      ]
    },
    {
      "cell_type": "code",
      "source": [
        "print(student1[\"name\"])\n"
      ],
      "metadata": {
        "colab": {
          "base_uri": "https://localhost:8080/"
        },
        "id": "t-gyvu5dEs9V",
        "outputId": "10f5f8c6-3891-4fce-98ab-3b7780d18fdf"
      },
      "execution_count": 2,
      "outputs": [
        {
          "output_type": "stream",
          "name": "stdout",
          "text": [
            "asma\n"
          ]
        }
      ]
    },
    {
      "cell_type": "markdown",
      "source": [
        "How to update the value of a key"
      ],
      "metadata": {
        "id": "_nCQp7bsFjgm"
      }
    },
    {
      "cell_type": "code",
      "source": [
        "student1[\"age\"]=23"
      ],
      "metadata": {
        "id": "OZkmEz6bEKvb"
      },
      "execution_count": 3,
      "outputs": []
    },
    {
      "cell_type": "code",
      "source": [
        "print(student1[\"age\"])"
      ],
      "metadata": {
        "colab": {
          "base_uri": "https://localhost:8080/"
        },
        "id": "qnz0cYxIFw_b",
        "outputId": "ba85b8d1-ec8f-4a31-e0a5-2a52c54ca824"
      },
      "execution_count": 4,
      "outputs": [
        {
          "output_type": "stream",
          "name": "stdout",
          "text": [
            "23\n"
          ]
        }
      ]
    },
    {
      "cell_type": "markdown",
      "source": [
        "how to add a key value pair"
      ],
      "metadata": {
        "id": "UTtLvyiaF4gX"
      }
    },
    {
      "cell_type": "code",
      "source": [
        "student1[\"address\"] = \"Abc\"\n"
      ],
      "metadata": {
        "id": "d5fiw13LF3s6"
      },
      "execution_count": 5,
      "outputs": []
    },
    {
      "cell_type": "code",
      "source": [
        "print(student1[\"address\"])"
      ],
      "metadata": {
        "colab": {
          "base_uri": "https://localhost:8080/"
        },
        "id": "W9t8hwNVGDlB",
        "outputId": "aa575246-40db-48c1-dbd0-6d50026bc61e"
      },
      "execution_count": 6,
      "outputs": [
        {
          "output_type": "stream",
          "name": "stdout",
          "text": [
            "Abc\n"
          ]
        }
      ]
    },
    {
      "cell_type": "markdown",
      "source": [
        "Here’s an example with multiple dictionaries stored in a list:"
      ],
      "metadata": {
        "id": "A1Tsn8BKHEkw"
      }
    },
    {
      "cell_type": "code",
      "source": [
        "\n",
        "\n",
        "\n",
        "\n",
        "# Create dictionaries for multiple people\n",
        "person1:dict = {\"name\": \"Alice\", \"age\": 25, \"city\": \"New York\"}\n",
        "person2 = {\"name\": \"Bob\", \"age\": 30, \"city\": \"Los Angeles\"}\n",
        "person3 = {\"name\": \"Charlie\", \"age\": 35, \"city\": \"Chicago\"}\n",
        "\n",
        "# Store the dictionaries in a list\n",
        "people = [person1, person2, person3]\n",
        "\n",
        "# Print the list\n",
        "print(people)"
      ],
      "metadata": {
        "colab": {
          "base_uri": "https://localhost:8080/"
        },
        "id": "thvo2jULHAHu",
        "outputId": "e62076c3-f2ca-40b8-d33e-ca0f2263e1eb"
      },
      "execution_count": 7,
      "outputs": [
        {
          "output_type": "stream",
          "name": "stdout",
          "text": [
            "[{'name': 'Alice', 'age': 25, 'city': 'New York'}, {'name': 'Bob', 'age': 30, 'city': 'Los Angeles'}, {'name': 'Charlie', 'age': 35, 'city': 'Chicago'}]\n"
          ]
        }
      ]
    },
    {
      "cell_type": "markdown",
      "source": [
        "**loops:**\n",
        "\n",
        " A loop repeats a block of code as long as a condition is true or for a set range.\n",
        "\n",
        "A **for loop** iterates over a sequence (like a range, list, or string), running a fixed number of times. A **while loop** continues to run as long as a given condition is true, and the number of iterations is not fixed in advance."
      ],
      "metadata": {
        "id": "vue-9_60JadF"
      }
    },
    {
      "cell_type": "code",
      "source": [
        "print(\"1\")\n",
        "print(\"2\")\n",
        "print(\"3\")\n",
        "print(\"4\")\n",
        "print(\"5\")\n",
        "\n"
      ],
      "metadata": {
        "colab": {
          "base_uri": "https://localhost:8080/"
        },
        "id": "_WJBdacYJcBP",
        "outputId": "9755ff3c-be5d-4fd0-cb33-22b408e24ea3"
      },
      "execution_count": 8,
      "outputs": [
        {
          "output_type": "stream",
          "name": "stdout",
          "text": [
            "1\n",
            "2\n",
            "3\n",
            "4\n",
            "5\n"
          ]
        }
      ]
    },
    {
      "cell_type": "code",
      "source": [
        "# Print numbers from 1 to 5\n",
        "for i in range(1, 6):\n",
        "    print(i)"
      ],
      "metadata": {
        "colab": {
          "base_uri": "https://localhost:8080/"
        },
        "id": "dPsgOV4BJn4o",
        "outputId": "7fdbefbf-4f58-45b0-bb35-467e8330c0b4"
      },
      "execution_count": 9,
      "outputs": [
        {
          "output_type": "stream",
          "name": "stdout",
          "text": [
            "1\n",
            "2\n",
            "3\n",
            "4\n",
            "5\n"
          ]
        }
      ]
    },
    {
      "cell_type": "code",
      "source": [
        "students = [\"Eman\"  ,\"Asma\",\"Amna\"]\n",
        "for student in students:\n",
        "    print(student)\n"
      ],
      "metadata": {
        "colab": {
          "base_uri": "https://localhost:8080/"
        },
        "id": "QSNPAkQfKSxw",
        "outputId": "79bc0432-ed8a-46a0-e7f2-93b115975212"
      },
      "execution_count": 12,
      "outputs": [
        {
          "output_type": "stream",
          "name": "stdout",
          "text": [
            "Eman\n",
            "Asma\n",
            "Amna\n"
          ]
        }
      ]
    },
    {
      "cell_type": "code",
      "source": [
        "\n",
        "\n",
        "numbers = list(range(1, 6))  # Create a list of the first 5 numbers\n",
        "\n",
        "squared_numbers = []\n",
        "for number in numbers:\n",
        "    squared_numbers.append(number**2)\n",
        "\n",
        "squared_numbers"
      ],
      "metadata": {
        "colab": {
          "base_uri": "https://localhost:8080/"
        },
        "id": "ZLDkgxSIPsrG",
        "outputId": "c8749379-b5b0-4514-8d88-4004fa3ef97f"
      },
      "execution_count": 13,
      "outputs": [
        {
          "output_type": "execute_result",
          "data": {
            "text/plain": [
              "[1, 4, 9, 16, 25]"
            ]
          },
          "metadata": {},
          "execution_count": 13
        }
      ]
    },
    {
      "source": [
        "import random\n",
        "\n",
        "# Generate a random number between 1 and 10\n",
        "secret_number = random.randint(1, 10)  # Changed the range here\n",
        "\n",
        "guess = 0\n",
        "attempts = 0\n",
        "\n",
        "while guess != secret_number:\n",
        "    try:\n",
        "        guess = int(input(\"Guess a number between 1 and 10: \"))  # Changed the prompt\n",
        "        attempts += 1\n",
        "\n",
        "        if guess < secret_number:\n",
        "            print(\"Too low!\")\n",
        "        elif guess > secret_number:\n",
        "            print(\"Too high!\")\n",
        "        else:\n",
        "            print(f\"Congratulations! You guessed the number in {attempts} attempts.\")\n",
        "    except ValueError:\n",
        "        print(\"Invalid input. Please enter a number.\")"
      ],
      "cell_type": "code",
      "metadata": {
        "id": "L-qAq2sjRgaF"
      },
      "execution_count": null,
      "outputs": []
    }
  ]
}