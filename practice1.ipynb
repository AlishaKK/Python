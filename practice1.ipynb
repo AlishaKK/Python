{
  "nbformat": 4,
  "nbformat_minor": 0,
  "metadata": {
    "colab": {
      "provenance": [],
      "authorship_tag": "ABX9TyOOZsyXsrEZlxErFjq8Za88",
      "include_colab_link": true
    },
    "kernelspec": {
      "name": "python3",
      "display_name": "Python 3"
    },
    "language_info": {
      "name": "python"
    }
  },
  "cells": [
    {
      "cell_type": "markdown",
      "metadata": {
        "id": "view-in-github",
        "colab_type": "text"
      },
      "source": [
        "<a href=\"https://colab.research.google.com/github/AlishaKK/Python/blob/main/practice1.ipynb\" target=\"_parent\"><img src=\"https://colab.research.google.com/assets/colab-badge.svg\" alt=\"Open In Colab\"/></a>"
      ]
    },
    {
      "cell_type": "code",
      "execution_count": null,
      "metadata": {
        "id": "tpi4KBq1wW6W"
      },
      "outputs": [],
      "source": [
        "# You have a list of student names: [\"Alice\", \"Bob\", \"Charlie\", \"David\", \"Eve\"].\n",
        "# Write Python code to:\n",
        "#  * Print the total number of students in the list.\n",
        "#  * Print the name of the third student in the list.\n",
        "#  * Add a new student named \"Frank\" to the end of the list.\n",
        "#  * Print the updated list.\n",
        "# Give it a try, and let me know what code you come up with! I'm here to help if you get stuck."
      ]
    },
    {
      "cell_type": "code",
      "source": [
        "student_name = [\"Alice\", \"Bob\", \"Charlie\", \"David\", \"Eve\"]\n",
        "print(len(student_name))\n",
        "print(student_name[2])\n",
        "student_name.append(\"Frank\")\n",
        "print(student_name)"
      ],
      "metadata": {
        "colab": {
          "base_uri": "https://localhost:8080/"
        },
        "id": "hUcpwqYawqMH",
        "outputId": "bc55118d-9885-4b4d-af22-588fb331fc48"
      },
      "execution_count": null,
      "outputs": [
        {
          "output_type": "stream",
          "name": "stdout",
          "text": [
            "5\n",
            "Charlie\n",
            "['Alice', 'Bob', 'Charlie', 'David', 'Eve', 'Frank']\n"
          ]
        }
      ]
    }
  ]
}